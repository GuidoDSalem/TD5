{
 "cells": [
  {
   "cell_type": "code",
   "execution_count": 1,
   "metadata": {},
   "outputs": [],
   "source": [
    "from Nodo import Nodo\n",
    "from Grafo import Grafo"
   ]
  },
  {
   "cell_type": "code",
   "execution_count": 2,
   "metadata": {},
   "outputs": [],
   "source": [
    "#          /------Oc ------- OF------Og\n",
    "#       Oa     /    \\  /------\\----/-/\n",
    "#         \\   /      Od--------OE\n",
    "#           Ob-----/\n"
   ]
  },
  {
   "cell_type": "code",
   "execution_count": 3,
   "metadata": {},
   "outputs": [],
   "source": [
    "A = Nodo('A',False)\n",
    "B = Nodo('B',False)\n",
    "C = Nodo('C',False)\n",
    "D = Nodo('D',False)\n",
    "E = Nodo('E',False)\n",
    "F = Nodo('F',False)\n",
    "G = Nodo('G',False)\n",
    "\n",
    "nodos = [A,B,C,D,E,F,G]\n",
    "enlaces = {(A,B):1,\n",
    "           (A,C):1,\n",
    "           (B,A):1,\n",
    "           (B,C):1,\n",
    "           (B,D):1,\n",
    "           (C,A):1,\n",
    "           (C,B):1,\n",
    "           (C,D):1,\n",
    "           (C,F):1,\n",
    "           (D,B):1,\n",
    "           (D,C):1,\n",
    "           (D,G):1,\n",
    "           (D,E):1,\n",
    "           (E,D):1,\n",
    "           (E,F):1,\n",
    "           (E,G):1,\n",
    "           (F,C):1,\n",
    "           (F,E):1,\n",
    "           (F,G):1,\n",
    "           (G,F):1,\n",
    "           (G,D):1,\n",
    "           (G,E):1}\n",
    "\n",
    "G = Grafo(nodos,enlaces)"
   ]
  },
  {
   "cell_type": "code",
   "execution_count": 4,
   "metadata": {},
   "outputs": [
    {
     "name": "stdout",
     "output_type": "stream",
     "text": [
      "A\n",
      "B\n",
      "C\n",
      "D\n",
      "F\n",
      "G\n",
      "E\n",
      "{'A': 2, 'B': 2, 'C': 2, 'D': 2, 'E': 2, 'F': 2, 'G': 2}\n"
     ]
    }
   ],
   "source": [
    "G.BFS('A')"
   ]
  },
  {
   "cell_type": "code",
   "execution_count": 5,
   "metadata": {},
   "outputs": [
    {
     "name": "stdout",
     "output_type": "stream",
     "text": [
      "A\n",
      "C\n",
      "F\n",
      "G\n",
      "E\n",
      "D\n",
      "B\n",
      "{'A': 2, 'B': 2, 'C': 2, 'D': 2, 'E': 2, 'F': 2, 'G': 2}\n"
     ]
    }
   ],
   "source": [
    "G.DFS('A')"
   ]
  },
  {
   "cell_type": "code",
   "execution_count": 6,
   "metadata": {},
   "outputs": [
    {
     "name": "stdout",
     "output_type": "stream",
     "text": [
      "ENTRE NO DIRIGIDO\n",
      "NOMBRE: I\n",
      "VALOR: False\n",
      "VECINOS: \n",
      "H: 6\n",
      "C: 3\n",
      "G: 5\n",
      "\n"
     ]
    }
   ],
   "source": [
    "A = Nodo('A',False)\n",
    "B = Nodo('B',False)\n",
    "C = Nodo('C',False)\n",
    "D = Nodo('D',False)\n",
    "E = Nodo('E',False)\n",
    "F = Nodo('F',False)\n",
    "G = Nodo('G',False)\n",
    "H = Nodo('H',False)\n",
    "I = Nodo('I',False)\n",
    "\n",
    "nodos = [A,B,C,D,E,F,G,H,I]\n",
    "\n",
    "enlaces = {\n",
    "    (A,B):4,\n",
    "    (A,H):8,\n",
    "    (B,H):12,\n",
    "    (B,C):8,\n",
    "    (H,I):6,\n",
    "    (H,G):1,\n",
    "    (C,I):3,\n",
    "    (I,G):5,\n",
    "    (C,D):6,\n",
    "    (C,F):4,\n",
    "    (G,F):3,\n",
    "    (D,F):13,\n",
    "    (D,E):9,\n",
    "    (F,E):10,\n",
    "}\n",
    "\n",
    "G = Grafo(nodos,enlaces,False)\n",
    "\n",
    "print(G.nodos['I'])"
   ]
  }
 ],
 "metadata": {
  "kernelspec": {
   "display_name": "Python 3",
   "language": "python",
   "name": "python3"
  },
  "language_info": {
   "codemirror_mode": {
    "name": "ipython",
    "version": 3
   },
   "file_extension": ".py",
   "mimetype": "text/x-python",
   "name": "python",
   "nbconvert_exporter": "python",
   "pygments_lexer": "ipython3",
   "version": "3.12.3"
  }
 },
 "nbformat": 4,
 "nbformat_minor": 2
}
