{
 "cells": [
  {
   "cell_type": "code",
   "execution_count": 1,
   "metadata": {},
   "outputs": [],
   "source": [
    "from Nodo import Nodo\n",
    "from Grafo import Grafo"
   ]
  },
  {
   "cell_type": "code",
   "execution_count": 2,
   "metadata": {},
   "outputs": [],
   "source": [
    "#          /------Oc ------- OF------Og\n",
    "#       Oa     /    \\  /------\\----/-/\n",
    "#         \\   /      Od--------OE\n",
    "#           Ob-----/\n"
   ]
  },
  {
   "cell_type": "code",
   "execution_count": 3,
   "metadata": {},
   "outputs": [],
   "source": [
    "A = Nodo('A',False)\n",
    "B = Nodo('B',False)\n",
    "C = Nodo('C',False)\n",
    "D = Nodo('D',False)\n",
    "E = Nodo('E',False)\n",
    "F = Nodo('F',False)\n",
    "G = Nodo('G',False)\n",
    "\n",
    "nodos = [A,B,C,D,E,F,G]\n",
    "enlaces = {(A,B):1,\n",
    "           (A,C):1,\n",
    "           (B,A):1,\n",
    "           (B,C):1,\n",
    "           (B,D):1,\n",
    "           (C,A):1,\n",
    "           (C,B):1,\n",
    "           (C,D):1,\n",
    "           (C,F):1,\n",
    "           (D,B):1,\n",
    "           (D,C):1,\n",
    "           (D,G):1,\n",
    "           (D,E):1,\n",
    "           (E,D):1,\n",
    "           (E,F):1,\n",
    "           (E,G):1,\n",
    "           (F,C):1,\n",
    "           (F,E):1,\n",
    "           (F,G):1,\n",
    "           (G,F):1,\n",
    "           (G,D):1,\n",
    "           (G,E):1}\n",
    "\n",
    "G = Grafo(nodos,enlaces)"
   ]
  },
  {
   "cell_type": "code",
   "execution_count": 4,
   "metadata": {},
   "outputs": [
    {
     "name": "stdout",
     "output_type": "stream",
     "text": [
      "NOMBRE: D\n",
      "\tVALOR: False\n",
      "\t\tVECINOS: BCGE\n",
      "NOMBRE: F\n",
      "\tVALOR: False\n",
      "\t\tVECINOS: CEG\n"
     ]
    }
   ],
   "source": [
    "print(G.nodos['D'])\n",
    "print(G.nodos['F'])"
   ]
  },
  {
   "cell_type": "code",
   "execution_count": 5,
   "metadata": {},
   "outputs": [
    {
     "name": "stdout",
     "output_type": "stream",
     "text": [
      "A\n",
      "B\n",
      "C\n",
      "D\n",
      "F\n",
      "G\n",
      "E\n",
      "{'A': 2, 'B': 2, 'C': 2, 'D': 2, 'E': 2, 'F': 2, 'G': 2}\n"
     ]
    }
   ],
   "source": [
    "G.BFS('A')"
   ]
  },
  {
   "cell_type": "code",
   "execution_count": 6,
   "metadata": {},
   "outputs": [
    {
     "name": "stdout",
     "output_type": "stream",
     "text": [
      "A\n",
      "C\n",
      "F\n",
      "G\n",
      "E\n",
      "D\n",
      "B\n",
      "{'A': 2, 'B': 2, 'C': 2, 'D': 2, 'E': 2, 'F': 2, 'G': 2}\n"
     ]
    }
   ],
   "source": [
    "G.DFS('A')"
   ]
  },
  {
   "cell_type": "code",
   "execution_count": 7,
   "metadata": {},
   "outputs": [],
   "source": [
    "A = Nodo('A',False)\n",
    "B = Nodo('B',False)\n",
    "C = Nodo('C',False)\n",
    "D = Nodo('D',False)\n",
    "E = Nodo('E',False)\n",
    "F = Nodo('F',False)\n",
    "G = Nodo('G',False)\n",
    "H = Nodo('I',False)\n",
    "I = Nodo('I',False)"
   ]
  }
 ],
 "metadata": {
  "kernelspec": {
   "display_name": "Python 3",
   "language": "python",
   "name": "python3"
  },
  "language_info": {
   "codemirror_mode": {
    "name": "ipython",
    "version": 3
   },
   "file_extension": ".py",
   "mimetype": "text/x-python",
   "name": "python",
   "nbconvert_exporter": "python",
   "pygments_lexer": "ipython3",
   "version": "3.12.3"
  }
 },
 "nbformat": 4,
 "nbformat_minor": 2
}
